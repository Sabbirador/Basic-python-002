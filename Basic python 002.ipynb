{
 "cells": [
  {
   "cell_type": "code",
   "execution_count": 2,
   "id": "f71c9cc1",
   "metadata": {},
   "outputs": [],
   "source": [
    "import numpy as np"
   ]
  },
  {
   "cell_type": "code",
   "execution_count": 3,
   "id": "2e93b23a",
   "metadata": {},
   "outputs": [],
   "source": [
    "array_arange=np.arange(16)"
   ]
  },
  {
   "cell_type": "code",
   "execution_count": 4,
   "id": "39162980",
   "metadata": {},
   "outputs": [
    {
     "data": {
      "text/plain": [
       "array([ 0,  1,  2,  3,  4,  5,  6,  7,  8,  9, 10, 11, 12, 13, 14, 15])"
      ]
     },
     "execution_count": 4,
     "metadata": {},
     "output_type": "execute_result"
    }
   ],
   "source": [
    "array_arange"
   ]
  },
  {
   "cell_type": "code",
   "execution_count": 5,
   "id": "3430b17d",
   "metadata": {},
   "outputs": [],
   "source": [
    "array_randint=np.random.randint(0,100,10)"
   ]
  },
  {
   "cell_type": "code",
   "execution_count": 8,
   "id": "c259fd54",
   "metadata": {},
   "outputs": [
    {
     "data": {
      "text/plain": [
       "array([45, 89, 93, 28, 68, 38,  3, 97, 61, 50])"
      ]
     },
     "execution_count": 8,
     "metadata": {},
     "output_type": "execute_result"
    }
   ],
   "source": [
    "array_randint"
   ]
  },
  {
   "cell_type": "code",
   "execution_count": 10,
   "id": "f01b7885",
   "metadata": {},
   "outputs": [
    {
     "data": {
      "text/plain": [
       "(10,)"
      ]
     },
     "execution_count": 10,
     "metadata": {},
     "output_type": "execute_result"
    }
   ],
   "source": [
    "array_randint.shape"
   ]
  },
  {
   "cell_type": "code",
   "execution_count": 11,
   "id": "d7450dd2",
   "metadata": {},
   "outputs": [],
   "source": [
    "array_randint=np.random.randint(0,50,550)"
   ]
  },
  {
   "cell_type": "code",
   "execution_count": 12,
   "id": "21f5e1bf",
   "metadata": {},
   "outputs": [
    {
     "data": {
      "text/plain": [
       "array([43, 36,  3, 46, 42,  7, 25,  2,  3,  9, 38, 15, 47,  9, 27,  8, 39,\n",
       "       23, 43,  5, 43, 49, 15, 20, 39, 49, 48,  4, 43,  5, 16, 16, 25, 14,\n",
       "       38, 34, 42, 22, 14, 12,  2, 42, 27, 14, 17,  2, 13,  9, 37, 33, 35,\n",
       "       16, 10, 16, 21, 40,  0, 40, 10, 43, 30, 16, 16, 15, 19, 19,  2,  8,\n",
       "       22, 46, 12, 15, 20, 23, 33, 37,  0,  1, 18, 46, 14, 10,  9, 14,  3,\n",
       "       15, 27, 25, 31, 43, 37, 19, 24, 24, 33, 33, 31, 35, 20, 14, 45, 16,\n",
       "       44, 39, 41, 38,  2, 28, 26, 47,  5, 24, 20, 49, 49,  7, 15, 28, 38,\n",
       "       25, 46, 10,  1, 38, 18, 45,  9, 14, 14, 15, 37, 22, 25,  1,  7, 49,\n",
       "       22,  2, 39, 48, 12,  0, 30, 43,  3, 33,  4, 17, 15,  9, 10,  4, 10,\n",
       "        1, 48, 46, 47, 16,  4, 30, 47, 31,  9, 23, 36, 38,  9, 37, 14, 10,\n",
       "       21, 45, 13, 46, 37, 12, 16, 36, 13, 36, 48, 20, 18, 12,  6, 19, 34,\n",
       "        3, 47, 33, 39, 46,  0, 38,  8, 19, 41, 49,  2, 23, 27,  5, 31, 14,\n",
       "       30, 10, 47, 38, 31, 29, 15, 22, 48, 19, 40, 10,  3, 23,  0, 19, 44,\n",
       "        1, 43,  7, 40, 30, 39, 39,  0, 42, 23, 35, 25, 18, 20, 30, 47, 39,\n",
       "       15, 46,  5, 45, 26, 14, 25, 41, 16, 20, 42,  6,  4,  3, 38, 28, 16,\n",
       "       23, 21, 20, 40, 24, 40, 41,  2, 48,  6, 24, 33, 35, 48, 47, 11, 21,\n",
       "        8, 30, 28, 36, 13, 47, 22, 20, 31, 46, 38, 38, 30, 39, 40, 22, 13,\n",
       "       37, 35,  2,  9, 36, 36, 34, 44, 48, 45, 38, 39, 47, 34, 22, 18, 24,\n",
       "       14, 11, 17, 28,  6, 21, 22, 19,  4, 29,  9, 42, 15, 12, 33,  5, 48,\n",
       "       26,  0, 43, 46, 21, 10, 27, 17, 13,  2, 12, 11, 17, 16,  5,  1, 12,\n",
       "        9,  6, 15, 20, 30, 39,  9, 37, 47,  0,  3,  7,  2, 47,  9, 17,  4,\n",
       "       37,  7, 34, 29, 39, 12, 27, 44, 41, 19, 16, 14, 15, 23, 45, 25, 49,\n",
       "       21, 18, 31,  3, 17,  7, 12, 40, 33, 37,  9, 47, 27, 48, 21,  9, 16,\n",
       "        0, 49, 42,  5, 46,  5, 44, 13, 36, 31, 24, 43, 24, 29,  8, 13, 40,\n",
       "       18,  5, 42,  2, 10, 19, 16,  2, 40,  1, 31, 22, 28, 14,  4, 40,  7,\n",
       "       16, 43, 10, 35, 20, 11, 43, 31,  9, 35, 13, 46, 14, 14, 24, 41, 46,\n",
       "       15, 30, 21, 32, 41, 31, 14, 45, 19, 25,  7,  2, 39, 40,  3, 13, 34,\n",
       "       11, 27, 23, 19,  3, 42, 36, 21, 34, 33,  5, 30,  3, 22, 38,  9, 32,\n",
       "       32, 37,  7, 35, 33, 14, 20,  7, 48, 22, 30, 17, 16, 18, 25, 19, 48,\n",
       "       36,  8, 34, 31, 24, 27, 38,  0, 12, 14, 18, 12, 32,  7, 46,  4, 49,\n",
       "       46, 29,  6, 22, 34, 49, 24, 11,  7, 16, 16,  7, 11, 15, 16, 12,  7,\n",
       "       48, 16, 25, 47, 47, 13,  3, 12, 12, 16, 37, 19, 39, 41, 39, 48, 36,\n",
       "       36, 23,  8,  9, 46, 40])"
      ]
     },
     "execution_count": 12,
     "metadata": {},
     "output_type": "execute_result"
    }
   ],
   "source": [
    "array_randint"
   ]
  },
  {
   "cell_type": "code",
   "execution_count": 13,
   "id": "1b8ff6bc",
   "metadata": {},
   "outputs": [
    {
     "data": {
      "text/plain": [
       "(550,)"
      ]
     },
     "execution_count": 13,
     "metadata": {},
     "output_type": "execute_result"
    }
   ],
   "source": [
    "array_randint.shape"
   ]
  },
  {
   "cell_type": "code",
   "execution_count": 17,
   "id": "f6e0b781",
   "metadata": {},
   "outputs": [
    {
     "data": {
      "text/plain": [
       "49"
      ]
     },
     "execution_count": 17,
     "metadata": {},
     "output_type": "execute_result"
    }
   ],
   "source": [
    "array_randint.max()"
   ]
  },
  {
   "cell_type": "code",
   "execution_count": 18,
   "id": "aa1508b4",
   "metadata": {},
   "outputs": [
    {
     "data": {
      "text/plain": [
       "0"
      ]
     },
     "execution_count": 18,
     "metadata": {},
     "output_type": "execute_result"
    }
   ],
   "source": [
    "array_randint.min()"
   ]
  },
  {
   "cell_type": "code",
   "execution_count": 19,
   "id": "7c7d1efc",
   "metadata": {},
   "outputs": [
    {
     "data": {
      "text/plain": [
       "21"
      ]
     },
     "execution_count": 19,
     "metadata": {},
     "output_type": "execute_result"
    }
   ],
   "source": [
    "array_randint.argmax()"
   ]
  },
  {
   "cell_type": "code",
   "execution_count": 20,
   "id": "a0d1802c",
   "metadata": {},
   "outputs": [
    {
     "data": {
      "text/plain": [
       "56"
      ]
     },
     "execution_count": 20,
     "metadata": {},
     "output_type": "execute_result"
    }
   ],
   "source": [
    "array_randint.argmin()"
   ]
  },
  {
   "cell_type": "code",
   "execution_count": 23,
   "id": "da45f53b",
   "metadata": {},
   "outputs": [
    {
     "data": {
      "text/plain": [
       "array([ 0,  1,  2,  3,  4,  5,  6,  7,  8,  9, 10, 11, 12, 13, 14, 15])"
      ]
     },
     "execution_count": 23,
     "metadata": {},
     "output_type": "execute_result"
    }
   ],
   "source": [
    "array_arange"
   ]
  },
  {
   "cell_type": "code",
   "execution_count": 25,
   "id": "9cee044d",
   "metadata": {},
   "outputs": [
    {
     "data": {
      "text/plain": [
       "(16,)"
      ]
     },
     "execution_count": 25,
     "metadata": {},
     "output_type": "execute_result"
    }
   ],
   "source": [
    "array_arange.shape"
   ]
  },
  {
   "cell_type": "code",
   "execution_count": 27,
   "id": "a1acf558",
   "metadata": {},
   "outputs": [
    {
     "data": {
      "text/plain": [
       "dtype('int32')"
      ]
     },
     "execution_count": 27,
     "metadata": {},
     "output_type": "execute_result"
    }
   ],
   "source": [
    "array_arange.dtype"
   ]
  },
  {
   "cell_type": "code",
   "execution_count": 30,
   "id": "cd97eef1",
   "metadata": {},
   "outputs": [],
   "source": [
    "array_1d=np.array([-10,-2,0,2,17,106,200])\n"
   ]
  },
  {
   "cell_type": "code",
   "execution_count": 31,
   "id": "751c8d4e",
   "metadata": {},
   "outputs": [
    {
     "data": {
      "text/plain": [
       "array([-10,  -2,   0,   2,  17, 106, 200])"
      ]
     },
     "execution_count": 31,
     "metadata": {},
     "output_type": "execute_result"
    }
   ],
   "source": [
    "array_1d"
   ]
  },
  {
   "cell_type": "code",
   "execution_count": 32,
   "id": "0669f5a1",
   "metadata": {},
   "outputs": [
    {
     "data": {
      "text/plain": [
       "0"
      ]
     },
     "execution_count": 32,
     "metadata": {},
     "output_type": "execute_result"
    }
   ],
   "source": [
    "array_1d[2]"
   ]
  },
  {
   "cell_type": "code",
   "execution_count": 33,
   "id": "432cddfb",
   "metadata": {},
   "outputs": [
    {
     "data": {
      "text/plain": [
       "-10"
      ]
     },
     "execution_count": 33,
     "metadata": {},
     "output_type": "execute_result"
    }
   ],
   "source": [
    "array_1d[0]"
   ]
  },
  {
   "cell_type": "code",
   "execution_count": 34,
   "id": "80533bec",
   "metadata": {},
   "outputs": [
    {
     "data": {
      "text/plain": [
       "array([-10,  -2])"
      ]
     },
     "execution_count": 34,
     "metadata": {},
     "output_type": "execute_result"
    }
   ],
   "source": [
    "array_1d[0:2]"
   ]
  },
  {
   "cell_type": "code",
   "execution_count": 35,
   "id": "2982e2fe",
   "metadata": {},
   "outputs": [
    {
     "data": {
      "text/plain": [
       "array([-10])"
      ]
     },
     "execution_count": 35,
     "metadata": {},
     "output_type": "execute_result"
    }
   ],
   "source": [
    "array_1d[0:1]"
   ]
  },
  {
   "cell_type": "code",
   "execution_count": 36,
   "id": "2d45bbe8",
   "metadata": {},
   "outputs": [
    {
     "data": {
      "text/plain": [
       "array([-2,  0,  2])"
      ]
     },
     "execution_count": 36,
     "metadata": {},
     "output_type": "execute_result"
    }
   ],
   "source": [
    "array_1d[1:4]"
   ]
  },
  {
   "cell_type": "code",
   "execution_count": 37,
   "id": "30487b31",
   "metadata": {},
   "outputs": [
    {
     "data": {
      "text/plain": [
       "array([ 0,  2, 17])"
      ]
     },
     "execution_count": 37,
     "metadata": {},
     "output_type": "execute_result"
    }
   ],
   "source": [
    "array_1d[2:5]"
   ]
  },
  {
   "cell_type": "code",
   "execution_count": 38,
   "id": "632e1e93",
   "metadata": {},
   "outputs": [],
   "source": [
    "array_1d[2]=234      "
   ]
  },
  {
   "cell_type": "code",
   "execution_count": 39,
   "id": "8bfebcfa",
   "metadata": {},
   "outputs": [
    {
     "data": {
      "text/plain": [
       "array([-10,  -2, 234,   2,  17, 106, 200])"
      ]
     },
     "execution_count": 39,
     "metadata": {},
     "output_type": "execute_result"
    }
   ],
   "source": [
    "array_1d"
   ]
  },
  {
   "cell_type": "code",
   "execution_count": 41,
   "id": "56d91d1e",
   "metadata": {},
   "outputs": [],
   "source": [
    "array_1d[5]=45\n"
   ]
  },
  {
   "cell_type": "code",
   "execution_count": 42,
   "id": "aebdcf32",
   "metadata": {},
   "outputs": [
    {
     "data": {
      "text/plain": [
       "array([-10,  -2, 234,   2,  17,  45, 200])"
      ]
     },
     "execution_count": 42,
     "metadata": {},
     "output_type": "execute_result"
    }
   ],
   "source": [
    "array_1d"
   ]
  },
  {
   "cell_type": "code",
   "execution_count": 43,
   "id": "aeef2928",
   "metadata": {},
   "outputs": [
    {
     "data": {
      "text/plain": [
       "17"
      ]
     },
     "execution_count": 43,
     "metadata": {},
     "output_type": "execute_result"
    }
   ],
   "source": [
    "array_1d[4]"
   ]
  },
  {
   "cell_type": "code",
   "execution_count": 44,
   "id": "a334a118",
   "metadata": {},
   "outputs": [],
   "source": [
    "array_1d[4]=67"
   ]
  },
  {
   "cell_type": "code",
   "execution_count": 45,
   "id": "63f6f476",
   "metadata": {},
   "outputs": [
    {
     "data": {
      "text/plain": [
       "array([-10,  -2, 234,   2,  67,  45, 200])"
      ]
     },
     "execution_count": 45,
     "metadata": {},
     "output_type": "execute_result"
    }
   ],
   "source": [
    "array_1d"
   ]
  },
  {
   "cell_type": "code",
   "execution_count": 47,
   "id": "f143f85f",
   "metadata": {},
   "outputs": [
    {
     "data": {
      "text/plain": [
       "array([[ 0,  1,  2,  3],\n",
       "       [ 4,  5,  6,  7],\n",
       "       [ 8,  9, 10, 11],\n",
       "       [12, 13, 14, 15],\n",
       "       [16, 17, 18, 19],\n",
       "       [20, 21, 22, 23]])"
      ]
     },
     "execution_count": 47,
     "metadata": {},
     "output_type": "execute_result"
    }
   ],
   "source": [
    "array_2d=np.arange(24)\n",
    "array_2d.shape=(6,4)\n",
    "array_2d"
   ]
  },
  {
   "cell_type": "code",
   "execution_count": 48,
   "id": "ee3f3e63",
   "metadata": {},
   "outputs": [
    {
     "data": {
      "text/plain": [
       "array([ 8,  9, 10, 11])"
      ]
     },
     "execution_count": 48,
     "metadata": {},
     "output_type": "execute_result"
    }
   ],
   "source": [
    "array_2d[2]"
   ]
  },
  {
   "cell_type": "code",
   "execution_count": 50,
   "id": "bdc1c53c",
   "metadata": {},
   "outputs": [
    {
     "data": {
      "text/plain": [
       "array([16, 17, 18, 19])"
      ]
     },
     "execution_count": 50,
     "metadata": {},
     "output_type": "execute_result"
    }
   ],
   "source": [
    "array_2d[4]"
   ]
  },
  {
   "cell_type": "code",
   "execution_count": 51,
   "id": "066ffb1f",
   "metadata": {},
   "outputs": [
    {
     "data": {
      "text/plain": [
       "array([ 8,  9, 10, 11])"
      ]
     },
     "execution_count": 51,
     "metadata": {},
     "output_type": "execute_result"
    }
   ],
   "source": [
    "array_2d[-4]"
   ]
  },
  {
   "cell_type": "code",
   "execution_count": 52,
   "id": "a340164e",
   "metadata": {},
   "outputs": [
    {
     "data": {
      "text/plain": [
       "22"
      ]
     },
     "execution_count": 52,
     "metadata": {},
     "output_type": "execute_result"
    }
   ],
   "source": [
    "array_2d[5,2]"
   ]
  },
  {
   "cell_type": "code",
   "execution_count": 53,
   "id": "5a7ba6ff",
   "metadata": {},
   "outputs": [
    {
     "data": {
      "text/plain": [
       "22"
      ]
     },
     "execution_count": 53,
     "metadata": {},
     "output_type": "execute_result"
    }
   ],
   "source": [
    "array_2d[5][2]"
   ]
  },
  {
   "cell_type": "code",
   "execution_count": 54,
   "id": "8598c149",
   "metadata": {},
   "outputs": [
    {
     "data": {
      "text/plain": [
       "22"
      ]
     },
     "execution_count": 54,
     "metadata": {},
     "output_type": "execute_result"
    }
   ],
   "source": [
    "row=5\n",
    "col=2\n",
    "array_2d[row,col]"
   ]
  },
  {
   "cell_type": "code",
   "execution_count": 60,
   "id": "ee303436",
   "metadata": {},
   "outputs": [
    {
     "data": {
      "text/plain": [
       "array([[1., 1., 1., 1.],\n",
       "       [1., 1., 1., 1.],\n",
       "       [1., 1., 1., 1.]])"
      ]
     },
     "execution_count": 60,
     "metadata": {},
     "output_type": "execute_result"
    }
   ],
   "source": [
    "array_2d=np.ones((3,4))\n",
    "array_2d"
   ]
  },
  {
   "cell_type": "code",
   "execution_count": 61,
   "id": "b1aa3580",
   "metadata": {},
   "outputs": [],
   "source": [
    "array_2d[0]=33"
   ]
  },
  {
   "cell_type": "code",
   "execution_count": 62,
   "id": "ef123ad2",
   "metadata": {},
   "outputs": [
    {
     "data": {
      "text/plain": [
       "array([[33., 33., 33., 33.],\n",
       "       [ 1.,  1.,  1.,  1.],\n",
       "       [ 1.,  1.,  1.,  1.]])"
      ]
     },
     "execution_count": 62,
     "metadata": {},
     "output_type": "execute_result"
    }
   ],
   "source": [
    "array_2d"
   ]
  },
  {
   "cell_type": "code",
   "execution_count": 63,
   "id": "4e300993",
   "metadata": {},
   "outputs": [],
   "source": [
    "array_2d[1]=22"
   ]
  },
  {
   "cell_type": "code",
   "execution_count": 64,
   "id": "1400e0dd",
   "metadata": {},
   "outputs": [
    {
     "data": {
      "text/plain": [
       "array([[33., 33., 33., 33.],\n",
       "       [22., 22., 22., 22.],\n",
       "       [ 1.,  1.,  1.,  1.]])"
      ]
     },
     "execution_count": 64,
     "metadata": {},
     "output_type": "execute_result"
    }
   ],
   "source": [
    "array_2d"
   ]
  },
  {
   "cell_type": "code",
   "execution_count": 65,
   "id": "6a12cfbd",
   "metadata": {},
   "outputs": [
    {
     "data": {
      "text/plain": [
       "array([[33., 33., 33., 33.],\n",
       "       [22., 22., 22., 22.],\n",
       "       [44., 44., 44., 44.]])"
      ]
     },
     "execution_count": 65,
     "metadata": {},
     "output_type": "execute_result"
    }
   ],
   "source": [
    "array_2d[2]=44\n",
    "array_2d"
   ]
  },
  {
   "cell_type": "code",
   "execution_count": 66,
   "id": "2dc0cbe6",
   "metadata": {},
   "outputs": [
    {
     "data": {
      "text/plain": [
       "array([[333., 333., 333., 333.],\n",
       "       [322., 322., 322., 322.],\n",
       "       [344., 344., 344., 344.]])"
      ]
     },
     "execution_count": 66,
     "metadata": {},
     "output_type": "execute_result"
    }
   ],
   "source": [
    "array_2d+300"
   ]
  },
  {
   "cell_type": "code",
   "execution_count": 67,
   "id": "8ddcea07",
   "metadata": {},
   "outputs": [
    {
     "data": {
      "text/plain": [
       "array([[ 99.,  99.,  99.,  99.],\n",
       "       [ 66.,  66.,  66.,  66.],\n",
       "       [132., 132., 132., 132.]])"
      ]
     },
     "execution_count": 67,
     "metadata": {},
     "output_type": "execute_result"
    }
   ],
   "source": [
    "array_2d*3"
   ]
  },
  {
   "cell_type": "code",
   "execution_count": 69,
   "id": "0eb955e5",
   "metadata": {},
   "outputs": [
    {
     "data": {
      "text/plain": [
       "array([[33., 33., 33., 33.],\n",
       "       [22., 22., 22., 22.]])"
      ]
     },
     "execution_count": 69,
     "metadata": {},
     "output_type": "execute_result"
    }
   ],
   "source": [
    "array_2d[[0,1]]"
   ]
  },
  {
   "cell_type": "code",
   "execution_count": 71,
   "id": "bccb25de",
   "metadata": {},
   "outputs": [
    {
     "data": {
      "text/plain": [
       "array([[33.],\n",
       "       [22.],\n",
       "       [44.]])"
      ]
     },
     "execution_count": 71,
     "metadata": {},
     "output_type": "execute_result"
    }
   ],
   "source": [
    "array_2d[:,[2]]"
   ]
  },
  {
   "cell_type": "code",
   "execution_count": 77,
   "id": "84345dfb",
   "metadata": {},
   "outputs": [
    {
     "data": {
      "text/plain": [
       "array([[ 0,  1,  2,  3,  4,  5],\n",
       "       [ 6,  7,  8,  9, 10, 11],\n",
       "       [12, 13, 14, 15, 16, 17],\n",
       "       [18, 19, 20, 21, 22, 23],\n",
       "       [24, 25, 26, 27, 28, 29],\n",
       "       [30, 31, 32, 33, 34, 35]])"
      ]
     },
     "execution_count": 77,
     "metadata": {},
     "output_type": "execute_result"
    }
   ],
   "source": [
    "array_2d=np.arange(36)\n",
    "array_2d.shape=(6,6)\n",
    "array_2d"
   ]
  },
  {
   "cell_type": "code",
   "execution_count": 78,
   "id": "694f3d8d",
   "metadata": {},
   "outputs": [
    {
     "data": {
      "text/plain": [
       "array([[False, False, False, False, False, False],\n",
       "       [ True,  True,  True,  True,  True,  True],\n",
       "       [ True,  True,  True,  True,  True,  True],\n",
       "       [ True,  True,  True,  True,  True,  True],\n",
       "       [ True,  True,  True,  True,  True,  True],\n",
       "       [ True,  True,  True,  True,  True,  True]])"
      ]
     },
     "execution_count": 78,
     "metadata": {},
     "output_type": "execute_result"
    }
   ],
   "source": [
    "array_2d > 5"
   ]
  },
  {
   "cell_type": "code",
   "execution_count": 79,
   "id": "b4c27adf",
   "metadata": {},
   "outputs": [
    {
     "data": {
      "text/plain": [
       "array([[ True,  True,  True,  True,  True,  True],\n",
       "       [ True, False, False, False, False, False],\n",
       "       [False, False, False, False, False, False],\n",
       "       [False, False, False, False, False, False],\n",
       "       [False, False, False, False, False, False],\n",
       "       [False, False, False, False, False, False]])"
      ]
     },
     "execution_count": 79,
     "metadata": {},
     "output_type": "execute_result"
    }
   ],
   "source": [
    "array_2d <=6"
   ]
  },
  {
   "cell_type": "code",
   "execution_count": 80,
   "id": "630c2c8a",
   "metadata": {},
   "outputs": [],
   "source": [
    "list_1=[1,2,3,4,5]                       #quiz 1\n",
    "numpy_array=np.array(list_1)"
   ]
  },
  {
   "cell_type": "code",
   "execution_count": 81,
   "id": "7d87dc45",
   "metadata": {},
   "outputs": [
    {
     "data": {
      "text/plain": [
       "array([1, 2, 3, 4, 5])"
      ]
     },
     "execution_count": 81,
     "metadata": {},
     "output_type": "execute_result"
    }
   ],
   "source": [
    "numpy_array                           "
   ]
  },
  {
   "cell_type": "code",
   "execution_count": 82,
   "id": "b0b215c2",
   "metadata": {},
   "outputs": [
    {
     "data": {
      "text/plain": [
       "array([0, 1, 2, 3, 4, 5])"
      ]
     },
     "execution_count": 82,
     "metadata": {},
     "output_type": "execute_result"
    }
   ],
   "source": [
    "np.arange(6)                           #quiz 2"
   ]
  },
  {
   "cell_type": "code",
   "execution_count": 83,
   "id": "74350a1c",
   "metadata": {},
   "outputs": [
    {
     "data": {
      "text/plain": [
       "array([0., 0., 0., 0., 0.])"
      ]
     },
     "execution_count": 83,
     "metadata": {},
     "output_type": "execute_result"
    }
   ],
   "source": [
    "np.zeros(5)                             #quiz 3"
   ]
  },
  {
   "cell_type": "code",
   "execution_count": 89,
   "id": "90dfccdc",
   "metadata": {},
   "outputs": [
    {
     "data": {
      "text/plain": [
       "array([[0., 0., 0., 0.],\n",
       "       [0., 0., 0., 0.],\n",
       "       [0., 0., 0., 0.]])"
      ]
     },
     "execution_count": 89,
     "metadata": {},
     "output_type": "execute_result"
    }
   ],
   "source": [
    "np.zeros((3,4))                       #quiz 4"
   ]
  },
  {
   "cell_type": "code",
   "execution_count": 90,
   "id": "71667c58",
   "metadata": {},
   "outputs": [
    {
     "data": {
      "text/plain": [
       "array([1., 1., 1., 1., 1.])"
      ]
     },
     "execution_count": 90,
     "metadata": {},
     "output_type": "execute_result"
    }
   ],
   "source": [
    "np.ones(5)                             #quiz 5"
   ]
  },
  {
   "cell_type": "code",
   "execution_count": 94,
   "id": "45450c0d",
   "metadata": {},
   "outputs": [
    {
     "data": {
      "text/plain": [
       "array([10., 10., 10., 10., 10.])"
      ]
     },
     "execution_count": 94,
     "metadata": {},
     "output_type": "execute_result"
    }
   ],
   "source": [
    "np.ones(5) + 9                          #quiz 6"
   ]
  },
  {
   "cell_type": "code",
   "execution_count": 96,
   "id": "46676568",
   "metadata": {},
   "outputs": [
    {
     "data": {
      "text/plain": [
       "array([52, 54, 56, 58, 60, 62, 64, 66, 68, 70, 72, 74, 76, 78, 80, 82, 84,\n",
       "       86, 88, 90, 92, 94, 96, 98])"
      ]
     },
     "execution_count": 96,
     "metadata": {},
     "output_type": "execute_result"
    }
   ],
   "source": [
    "np.arange(52,100,2)                       #quiz 7"
   ]
  },
  {
   "cell_type": "code",
   "execution_count": 104,
   "id": "2d138daf",
   "metadata": {},
   "outputs": [
    {
     "data": {
      "text/plain": [
       "array([0.02907982, 0.18800577, 0.12875916, 0.45327024, 0.49554706,\n",
       "       0.52188738, 0.91514965, 0.02703442, 0.79402979, 0.75725139,\n",
       "       0.57424291])"
      ]
     },
     "execution_count": 104,
     "metadata": {},
     "output_type": "execute_result"
    }
   ],
   "source": [
    "np.random.rand(11)"
   ]
  },
  {
   "cell_type": "code",
   "execution_count": 105,
   "id": "797ae767",
   "metadata": {},
   "outputs": [
    {
     "data": {
      "text/plain": [
       "array([ 0,  1,  2,  3,  4,  5,  6,  7,  8,  9, 10, 11, 12, 13, 14, 15, 16,\n",
       "       17, 18, 19, 20, 21, 22, 23, 24])"
      ]
     },
     "execution_count": 105,
     "metadata": {},
     "output_type": "execute_result"
    }
   ],
   "source": [
    "np.arange(25)"
   ]
  },
  {
   "cell_type": "code",
   "execution_count": 109,
   "id": "7a96bee0",
   "metadata": {},
   "outputs": [
    {
     "data": {
      "text/plain": [
       "(550,)"
      ]
     },
     "execution_count": 109,
     "metadata": {},
     "output_type": "execute_result"
    }
   ],
   "source": [
    "array_randint.shape"
   ]
  },
  {
   "cell_type": "code",
   "execution_count": 110,
   "id": "18eeb8ce",
   "metadata": {},
   "outputs": [
    {
     "data": {
      "text/plain": [
       "array([[1., 0., 0., 0., 0.],\n",
       "       [0., 1., 0., 0., 0.],\n",
       "       [0., 0., 1., 0., 0.],\n",
       "       [0., 0., 0., 1., 0.],\n",
       "       [0., 0., 0., 0., 1.]])"
      ]
     },
     "execution_count": 110,
     "metadata": {},
     "output_type": "execute_result"
    }
   ],
   "source": [
    "np.eye(5)"
   ]
  },
  {
   "cell_type": "code",
   "execution_count": 1,
   "id": "a9d54215",
   "metadata": {},
   "outputs": [],
   "source": [
    "import numpy as np\n"
   ]
  },
  {
   "cell_type": "code",
   "execution_count": 6,
   "id": "e740a443",
   "metadata": {},
   "outputs": [],
   "source": [
    "array_arange=np.arange(25)"
   ]
  },
  {
   "cell_type": "code",
   "execution_count": 11,
   "id": "eeb69d4a",
   "metadata": {},
   "outputs": [
    {
     "data": {
      "text/plain": [
       "array([ 0,  1,  2,  3,  4,  5,  6,  7,  8,  9, 10, 11, 12, 13, 14, 15, 16,\n",
       "       17, 18, 19, 20, 21, 22])"
      ]
     },
     "execution_count": 11,
     "metadata": {},
     "output_type": "execute_result"
    }
   ],
   "source": [
    "array_arange"
   ]
  },
  {
   "cell_type": "code",
   "execution_count": 9,
   "id": "bcef6ac8",
   "metadata": {},
   "outputs": [
    {
     "data": {
      "text/plain": [
       "array([[ 0,  1,  2,  3],\n",
       "       [ 4,  5,  6,  7],\n",
       "       [ 8,  9, 10, 11],\n",
       "       [12, 13, 14, 15],\n",
       "       [16, 17, 18, 19],\n",
       "       [20, 21, 22, 23]])"
      ]
     },
     "execution_count": 9,
     "metadata": {},
     "output_type": "execute_result"
    }
   ],
   "source": [
    "array_2d=np.arange(24)\n",
    "array_2d.shape=(6,4)\n",
    "array_2d"
   ]
  },
  {
   "cell_type": "code",
   "execution_count": 14,
   "id": "21e4244a",
   "metadata": {},
   "outputs": [],
   "source": [
    "np.linspace(0,24,25)\n",
    "array_2d=np.arange(25)\n",
    "array_2d.shape=(5*5)\n",
    "                "
   ]
  },
  {
   "cell_type": "code",
   "execution_count": 16,
   "id": "2399318f",
   "metadata": {},
   "outputs": [
    {
     "data": {
      "text/plain": [
       "(25,)"
      ]
     },
     "execution_count": 16,
     "metadata": {},
     "output_type": "execute_result"
    }
   ],
   "source": [
    "array_2d.shape"
   ]
  },
  {
   "cell_type": "code",
   "execution_count": null,
   "id": "d2d9cd36",
   "metadata": {},
   "outputs": [],
   "source": []
  },
  {
   "cell_type": "code",
   "execution_count": null,
   "id": "5981d691",
   "metadata": {},
   "outputs": [],
   "source": []
  },
  {
   "cell_type": "code",
   "execution_count": null,
   "id": "8aed56eb",
   "metadata": {},
   "outputs": [],
   "source": []
  },
  {
   "cell_type": "code",
   "execution_count": null,
   "id": "a26ca66a",
   "metadata": {},
   "outputs": [],
   "source": []
  },
  {
   "cell_type": "code",
   "execution_count": null,
   "id": "871d8d19",
   "metadata": {},
   "outputs": [],
   "source": []
  }
 ],
 "metadata": {
  "kernelspec": {
   "display_name": "Python 3 (ipykernel)",
   "language": "python",
   "name": "python3"
  },
  "language_info": {
   "codemirror_mode": {
    "name": "ipython",
    "version": 3
   },
   "file_extension": ".py",
   "mimetype": "text/x-python",
   "name": "python",
   "nbconvert_exporter": "python",
   "pygments_lexer": "ipython3",
   "version": "3.9.13"
  }
 },
 "nbformat": 4,
 "nbformat_minor": 5
}
